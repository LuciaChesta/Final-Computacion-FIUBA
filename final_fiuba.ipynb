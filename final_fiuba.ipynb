{
  "nbformat": 4,
  "nbformat_minor": 0,
  "metadata": {
    "colab": {
      "provenance": []
    },
    "kernelspec": {
      "name": "python3",
      "display_name": "Python 3"
    },
    "language_info": {
      "name": "python"
    }
  },
  "cells": [
    {
      "cell_type": "code",
      "execution_count": 6,
      "metadata": {
        "id": "LxKPtjcLVwue"
      },
      "outputs": [],
      "source": [
        "datostren=[]\n",
        "def ingreso(datostren):\n",
        "    \n",
        "        \n",
        "    continuar=True\n",
        "    while continuar:\n",
        "        viajes=[]\n",
        "        codigotren=input(\"Ingrese el nombre del codigo de viaje: \")\n",
        "\n",
        "        operador= input(\"Ingrese el nombre del operador: \")\n",
        "        # nombreserv=input(\"Ingrese el nombre del servicio: \")\n",
        "        # origen=input(\"Ingrese el nombre de origen: \").lower\n",
        "        # destino=input(\"Ingrese el nombre del destino: \").lower\n",
        "        # estado=input(\"Ingrese el estado del viaje(en tiempo, estimado o demorado): \").lower\n",
        "        \n",
        "        while operador.isalpha() == False:\n",
        "                operador = input(\"Ingrese el nombre con letras del operador: \") \n",
        "                \n",
        "        nombreserv=input(\"Ingrese el nombre del servicio: \")\n",
        "                \n",
        "        while nombreserv.isalpha() == False:\n",
        "                 nombreserv=input(\"Ingrese el nombre del servicio: \")\n",
        "        \n",
        "        estado=input(\"Ingrese el estado del viaje(Atiempo, estimado o demorado): \")\n",
        "                \n",
        "        while estado.isalpha() == False:\n",
        "                estado=input(\"Ingrese el estado del viaje(Atiempo, estimado o demorado): \")\n",
        "                \n",
        "        origen=input(\"Ingrese el nombre de origen: \")\n",
        "        \n",
        "        while origen.isalpha() == False:\n",
        "                origen=input(\"Ingrese el nombre de origen: \")\n",
        "                \n",
        "        destino=input(\"Ingrese el nombre del destino: \")\n",
        "                \n",
        "        while destino.isalpha() == False:\n",
        "                destino=input(\"Ingrese el nombre del destino: \")\n",
        "                \n",
        "                \n",
        "        errores = True\n",
        "        while errores:\n",
        "                try: \n",
        "                    horariodesalida= int(input(\"Ingrese el horario de salida como HHMM: \"))\n",
        "                    horariodellegada= int(input(\"Ingrese el horario de llegada como HHMM: \"))\n",
        "                    if horariodesalida <0:\n",
        "                        print(\"Tiene que ser un numero positivo\")\n",
        "                    errores = False\n",
        "                    if horariodellegada <0:\n",
        "                        print(\"Tiene que ser un numero positivo\")\n",
        "                    errores = False\n",
        "                except ValueError:\n",
        "                    print(\"verifique los valores ingresados\")\n",
        "                    errores = True\n",
        "                    \n",
        "        \n",
        "        viajes.append(codigotren)\n",
        "        viajes.append(operador)\n",
        "        viajes.append(nombreserv)\n",
        "        viajes.append(estado)\n",
        "        viajes.append(origen)\n",
        "        viajes.append(destino)\n",
        "        viajes.append(horariodesalida)\n",
        "        viajes.append(horariodellegada)\n",
        "        datostren.append(viajes)\n",
        "        print(viajes)\n",
        "        \n",
        "  \n",
        "        print(\"¿Desea seguir agregando viajes? \")\n",
        "        respuesta=input(\"s/n: \").lower()\n",
        "        while respuesta != \"s\" and respuesta != \"n\":\n",
        "                print(\"Solo puede agregar s/n\")\n",
        "        if respuesta==\"s\":\n",
        "            continuar = True\n",
        "        elif respuesta ==\"n\":\n",
        "            continuar = False"
      ]
    },
    {
      "cell_type": "code",
      "source": [
        "ingreso(datostren)"
      ],
      "metadata": {
        "colab": {
          "base_uri": "https://localhost:8080/"
        },
        "id": "yiLnifTzW9hO",
        "outputId": "962da2d0-a197-421a-e713-70fa45e95099"
      },
      "execution_count": 7,
      "outputs": [
        {
          "name": "stdout",
          "output_type": "stream",
          "text": [
            "Ingrese el nombre del codigo de viaje: T7565\n",
            "Ingrese el nombre del operador: TrenItalia,\n",
            "Ingrese el nombre con letras del operador: Frecciarossa\n",
            "Ingrese el nombre del servicio: Roma\n",
            "Ingrese el estado del viaje(Atiempo, estimado o demorado): Milán\n",
            "Ingrese el nombre de origen: Roma\n",
            "Ingrese el nombre del destino: Miñan\n",
            "Ingrese el horario de salida como HHMM: 1440\n",
            "Ingrese el horario de llegada como HHMM: 1820\n",
            "['T7565', 'Frecciarossa', 'Roma', 'Milán', 'Roma', 'Miñan', 1440, 1820]\n",
            "¿Desea seguir agregando viajes? \n",
            "s/n: n\n"
          ]
        }
      ]
    }
  ]
}